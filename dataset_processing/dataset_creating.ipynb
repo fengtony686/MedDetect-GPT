{
 "cells": [
  {
   "cell_type": "code",
   "execution_count": 16,
   "id": "initial_id",
   "metadata": {
    "ExecuteTime": {
     "end_time": "2024-04-18T18:20:34.569277786Z",
     "start_time": "2024-04-18T18:20:34.522136380Z"
    },
    "collapsed": true
   },
   "outputs": [
    {
     "name": "stdout",
     "output_type": "stream",
     "text": [
      "                                   Question  \\\n",
      "0             What is (are) Penile Cancer ?   \n",
      "1       Who is at risk for Penile Cancer? ?   \n",
      "2  What are the symptoms of Penile Cancer ?   \n",
      "3           How to diagnose Penile Cancer ?   \n",
      "4   What is the outlook for Penile Cancer ?   \n",
      "\n",
      "                                              Answer  \n",
      "0  Key Points\\n                    - Penile cance...  \n",
      "1  Human papillomavirus infection may increase th...  \n",
      "2  Signs of penile cancer include sores, discharg...  \n",
      "3  Tests that examine the penis are used to detec...  \n",
      "4  Certain factors affect prognosis (chance of re...  \n"
     ]
    }
   ],
   "source": [
    "import os\n",
    "import xml.etree.ElementTree as ET\n",
    "import pandas as pd\n",
    "\n",
    "directory = './1_CancerGov_QA/'\n",
    "\n",
    "qa_list = []\n",
    "\n",
    "for filename in os.listdir(directory):\n",
    "    if filename.endswith('.xml'):\n",
    "        file_path = os.path.join(directory, filename)\n",
    "        \n",
    "        tree = ET.parse(file_path)\n",
    "        root = tree.getroot()\n",
    "        \n",
    "        for qapair in root.find('QAPairs'):\n",
    "            question = qapair.find('Question').text.strip()\n",
    "            answer = qapair.find('Answer').text.strip()\n",
    "            qa_list.append({'Question': question, 'Answer': answer})\n",
    "\n",
    "df = pd.DataFrame(qa_list)\n",
    "\n",
    "print(df.head())"
   ]
  },
  {
   "cell_type": "code",
   "execution_count": 17,
   "id": "3b9ce9b08ed46f46",
   "metadata": {
    "ExecuteTime": {
     "end_time": "2024-04-18T18:20:34.591095479Z",
     "start_time": "2024-04-18T18:20:34.565284662Z"
    },
    "collapsed": false
   },
   "outputs": [
    {
     "name": "stdout",
     "output_type": "stream",
     "text": [
      "                                              Prompt\n",
      "0  Example 1: \"New types of treatment are being t...\n",
      "1  Example 1: \"Key Points\\n                    - ...\n",
      "2  Example 1: \"Signs of colon cancer include bloo...\n",
      "3  Example 1: \"Key Points\\n                    - ...\n",
      "4  Example 1: \"Key Points\\n                    - ...\n"
     ]
    }
   ],
   "source": [
    "import xml.etree.ElementTree as ET\n",
    "import pandas as pd\n",
    "import random\n",
    "\n",
    "qa_pairs = []\n",
    "for idx, i in enumerate(df[\"Question\"]):\n",
    "    question = i\n",
    "    answer = df[\"Answer\"][idx]\n",
    "    qa_pairs.append((question, answer))\n",
    "\n",
    "prompts = []\n",
    "\n",
    "for i, (question, correct_answer) in enumerate(qa_pairs):\n",
    "    other_answers = [answer for _, answer in qa_pairs if answer != correct_answer]\n",
    "    random_answers = random.sample(other_answers, 3)\n",
    "\n",
    "    prompt = f'Example 1: \"{random_answers[0]}\"\\n\\n'\n",
    "    prompt += f'Example 2: \"{random_answers[1]}\"\\n\\n'\n",
    "    prompt += f'Example 3: \"{random_answers[2]}\"\\n\\n'\n",
    "    prompt += f'Please read the example answer below for other questions, and then answer the question briefly in a similar style (using lists if you have multiple points after a brief summary): \"{question}\". You need to use \"-\" to index your list and write the answer in a code environment. Do not include \"*\".'\n",
    "\n",
    "    prompts.append(prompt)\n",
    "\n",
    "df_prompts = pd.DataFrame(prompts, columns=['Prompt'])\n",
    "print(df_prompts.head())"
   ]
  },
  {
   "cell_type": "code",
   "execution_count": 18,
   "id": "7ee9c8ce41a9876c",
   "metadata": {
    "ExecuteTime": {
     "end_time": "2024-04-18T18:20:36.309066469Z",
     "start_time": "2024-04-18T18:20:34.586741097Z"
    },
    "collapsed": false
   },
   "outputs": [
    {
     "name": "stdout",
     "output_type": "stream",
     "text": [
      "ChatCompletion(id='chatcmpl-9FQf5o0FXLvMSXGtmM88exWlcI0pS', choices=[Choice(finish_reason='stop', index=0, logprobs=None, message=ChatCompletionMessage(content='```\\n- Penile cancer is a rare type of cancer that occurs on the skin or tissues of the penis.\\n```', role='assistant', function_call=None, tool_calls=None))], created=1713464435, model='gpt-3.5-turbo-0125', object='chat.completion', system_fingerprint='fp_c2295e73ad', usage=CompletionUsage(completion_tokens=24, prompt_tokens=6747, total_tokens=6771))\n"
     ]
    }
   ],
   "source": [
    "from openai import OpenAI\n",
    "client = OpenAI(api_key=\"your_api\")\n",
    "\n",
    "response = client.chat.completions.create(\n",
    "  model=\"gpt-3.5-turbo\",\n",
    "  messages=[\n",
    "    {\n",
    "      \"role\": \"user\",\n",
    "      \"content\": df_prompts['Prompt'][0]\n",
    "    }\n",
    "  ],\n",
    "  temperature=1,\n",
    "  max_tokens=256,\n",
    "  top_p=1,\n",
    "  frequency_penalty=0,\n",
    "  presence_penalty=0\n",
    ")\n",
    "\n",
    "print(response)"
   ]
  },
  {
   "cell_type": "code",
   "execution_count": 19,
   "id": "688ee7b1456d71b3",
   "metadata": {
    "ExecuteTime": {
     "end_time": "2024-04-18T18:20:36.309366296Z",
     "start_time": "2024-04-18T18:20:36.308555333Z"
    },
    "collapsed": false
   },
   "outputs": [
    {
     "name": "stdout",
     "output_type": "stream",
     "text": [
      "\n",
      "- Penile cancer is a rare type of cancer that occurs on the skin or tissues of the penis.\n"
     ]
    }
   ],
   "source": [
    "def remove_md(text):\n",
    "    text = text.replace(\"```markdown\\n\", \"\")\n",
    "    text = text.replace(\"\\n```\", \"\")\n",
    "    text = text.replace(\"```\", \"\")\n",
    "    return text\n",
    "\n",
    "print(remove_md(response.choices[0].message.content))"
   ]
  },
  {
   "cell_type": "code",
   "execution_count": 20,
   "id": "8665fb8e38fd5a4e",
   "metadata": {
    "ExecuteTime": {
     "end_time": "2024-04-18T18:20:36.469029022Z",
     "start_time": "2024-04-18T18:20:36.308700083Z"
    },
    "collapsed": false
   },
   "outputs": [],
   "source": [
    "from openai import OpenAI\n",
    "from tqdm import tqdm\n",
    "client = OpenAI(api_key=\"your_api\")\n",
    "\n",
    "def remove_md(text):\n",
    "    text = text.replace(\"```markdown\\n\", \"\")\n",
    "    text = text.replace(\"\\n```\", \"\")\n",
    "    return text\n",
    "\n",
    "def gpt_response(prompt):\n",
    "    response = client.chat.completions.create(\n",
    "    model=\"gpt-3.5-turbo\",\n",
    "    messages=[\n",
    "    {\n",
    "        \"role\": \"user\",\n",
    "        \"content\": prompt\n",
    "    }\n",
    "    ],\n",
    "    temperature=1,\n",
    "    max_tokens=256,\n",
    "    top_p=1,\n",
    "    frequency_penalty=0,\n",
    "    presence_penalty=0\n",
    "    )\n",
    "    return remove_md(response.choices[0].message.content)\n",
    "\n",
    "def save_checkpoint(index):\n",
    "    with open(\"checkpoint.txt\", \"w\") as f:\n",
    "        f.write(str(index))\n",
    "\n",
    "def load_checkpoint():\n",
    "    try:\n",
    "        with open(\"checkpoint.txt\", \"r\") as f:\n",
    "            return int(f.read().strip())\n",
    "    except FileNotFoundError:\n",
    "        return 0\n",
    "\n",
    "df.to_csv(\"data.csv\")\n",
    "df_prompts.to_csv(\"prompts.csv\")"
   ]
  },
  {
   "cell_type": "code",
   "execution_count": 21,
   "id": "aeacfead723504bf",
   "metadata": {
    "ExecuteTime": {
     "end_time": "2024-04-18T18:52:14.289130271Z",
     "start_time": "2024-04-18T18:20:36.471170919Z"
    },
    "collapsed": false
   },
   "outputs": [
    {
     "name": "stderr",
     "output_type": "stream",
     "text": [
      "100%|██████████| 729/729 [31:37<00:00,  2.60s/it]\n"
     ]
    }
   ],
   "source": [
    "df = pd.read_csv(\"data.csv\")\n",
    "df_prompts = pd.read_csv(\"prompts.csv\")\n",
    "\n",
    "start_index = load_checkpoint()\n",
    "answers = [None] * len(df)  # Pre-allocate list for answers\n",
    "\n",
    "for idx in tqdm(range(start_index, len(df[\"Question\"]))):\n",
    "    prompt = df_prompts['Prompt'][idx]\n",
    "    try:\n",
    "        answer = gpt_response(prompt)\n",
    "    except Exception as e:\n",
    "        print(f\"Error processing prompt at index {idx}: {e}\")\n",
    "        answer = \"Error\"\n",
    "    if answer != \"Error\":\n",
    "        answers[idx] = answer\n",
    "        df.at[idx, \"AI Answers\"] = answer\n",
    "        save_checkpoint(idx + 1)\n",
    "\n",
    "df.to_csv(\"updated_answers.csv\", index=False)"
   ]
  },
  {
   "cell_type": "code",
   "execution_count": 22,
   "id": "f2c54790e5b17971",
   "metadata": {
    "ExecuteTime": {
     "end_time": "2024-04-18T18:52:14.335040182Z",
     "start_time": "2024-04-18T18:52:14.281793573Z"
    },
    "collapsed": false
   },
   "outputs": [],
   "source": [
    "df.to_csv(\"1_CancerGov_QA.csv\")"
   ]
  },
  {
   "cell_type": "code",
   "execution_count": 23,
   "id": "c7b05fe3a596abbb",
   "metadata": {
    "ExecuteTime": {
     "end_time": "2024-04-18T18:52:14.341657800Z",
     "start_time": "2024-04-18T18:52:14.335683754Z"
    },
    "collapsed": false
   },
   "outputs": [
    {
     "name": "stdout",
     "output_type": "stream",
     "text": [
      "Example 1: \"Certain factors affect prognosis (chance of recovery) and treatment options. The prognosis (chance of recovery) and treatment options depend on the following:         - The stage of the cancer (whether the cancer is in the inner lining of the colon only or has spread through the colon wall, or has spread to lymph nodes or other places in the body).    - Whether the cancer has blocked or made a hole in the colon.    - Whether there are any cancer cells left after surgery.    - Whether the cancer has recurred.     - The patients general health.        The prognosis also depends on the blood levels of carcinoembryonic antigen (CEA) before treatment begins. CEA is a substance in the blood that may be increased when cancer is present.\"\n",
      "\n",
      "Example 2: \"Signs and symptoms of neuroblastoma include bone pain and a lump in the abdomen, neck, or chest.The most common signs and symptoms of neuroblastoma are caused by the tumor pressing on nearby tissues as it grows or by cancer spreading to the bone. These and other signs and symptoms may be caused by neuroblastoma or by other conditions.   Check with your childs doctor if your child has any of the following:         - Lump in the abdomen, neck, or chest.    - Bulging eyes.    - Dark circles around the eyes (\"black eyes\").    - Bone pain.    - Swollen stomach and trouble breathing (in infants).    - Painless, bluish lumps under the skin (in infants).    - Weakness or paralysis (loss of ability to move a body part).        Less common signs and symptoms of neuroblastoma include the following:         -  Fever.    - Shortness of breath.    - Feeling tired.    - Easy bruising or bleeding.    -  Petechiae (flat, pinpoint spots under the skin caused by bleeding).    -  High blood pressure.     - Severe watery diarrhea.    -  Horner syndrome (droopy eyelid, smaller pupil, and less sweating on one side of the face).    - Jerky muscle movements.    - Uncontrolled eye movements.\"\n",
      "\n",
      "Example 3: \"Signs and symptoms of chronic myelomonocytic leukemia include fever, weight loss, and feeling very tired. These and other signs and symptoms may be caused by CMML or by other conditions. Check with your doctor if you have any of the following:         -  Fever for no known reason.    - Infection.    - Feeling very tired.    - Weight loss for no known reason.    - Easy bruising or bleeding.    - Pain or a feeling of fullness below the ribs.\"\n",
      "\n",
      "Please read the example answer below for other questions, and then answer the question briefly in a similar style (using lists if you have multiple points after a brief summary): \"What are the stages of Uterine Sarcoma ?\". You need to use \"-\" to index your list and write the answer in a code environment. Do not include \"*\".\n"
     ]
    }
   ],
   "source": [
    "# print(df[\"AI Answers\"][60])\n",
    "# print(df[\"Question\"][60])\n",
    "print(df_prompts[\"Prompt\"][60])"
   ]
  }
 ],
 "metadata": {
  "kernelspec": {
   "display_name": "Python 3",
   "language": "python",
   "name": "python3"
  },
  "language_info": {
   "codemirror_mode": {
    "name": "ipython",
    "version": 2
   },
   "file_extension": ".py",
   "mimetype": "text/x-python",
   "name": "python",
   "nbconvert_exporter": "python",
   "pygments_lexer": "ipython2",
   "version": "2.7.6"
  }
 },
 "nbformat": 4,
 "nbformat_minor": 5
}
