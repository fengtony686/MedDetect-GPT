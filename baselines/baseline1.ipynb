{
 "cells": [
  {
   "cell_type": "code",
   "execution_count": 3,
   "id": "initial_id",
   "metadata": {
    "ExecuteTime": {
     "end_time": "2024-04-29T23:52:06.504335266Z",
     "start_time": "2024-04-29T23:52:05.933578620Z"
    },
    "collapsed": true
   },
   "outputs": [
    {
     "data": {
      "text/html": [
       "<div>\n",
       "<style scoped>\n",
       "    .dataframe tbody tr th:only-of-type {\n",
       "        vertical-align: middle;\n",
       "    }\n",
       "\n",
       "    .dataframe tbody tr th {\n",
       "        vertical-align: top;\n",
       "    }\n",
       "\n",
       "    .dataframe thead th {\n",
       "        text-align: right;\n",
       "    }\n",
       "</style>\n",
       "<table border=\"1\" class=\"dataframe\">\n",
       "  <thead>\n",
       "    <tr style=\"text-align: right;\">\n",
       "      <th></th>\n",
       "      <th>Question</th>\n",
       "      <th>Answer</th>\n",
       "      <th>Label</th>\n",
       "    </tr>\n",
       "  </thead>\n",
       "  <tbody>\n",
       "    <tr>\n",
       "      <th>0</th>\n",
       "      <td>Question: What are the treatments for Myelodys...</td>\n",
       "      <td>Because myelodysplastic /myeloproliferative ne...</td>\n",
       "      <td>human</td>\n",
       "    </tr>\n",
       "    <tr>\n",
       "      <th>1</th>\n",
       "      <td>Question: What are the treatments for Myelodys...</td>\n",
       "      <td>Treatments for. Myelodysplastic/ Myeloprolifer...</td>\n",
       "      <td>machine</td>\n",
       "    </tr>\n",
       "    <tr>\n",
       "      <th>2</th>\n",
       "      <td>Question: What are the symptoms of Adult Non-H...</td>\n",
       "      <td>Signs and symptoms of adult nonHodgkin lymphom...</td>\n",
       "      <td>human</td>\n",
       "    </tr>\n",
       "    <tr>\n",
       "      <th>3</th>\n",
       "      <td>Question: What are the symptoms of Adult Non-H...</td>\n",
       "      <td>Swollen lymph nodes. Fever. Night sweats. Wei...</td>\n",
       "      <td>machine</td>\n",
       "    </tr>\n",
       "    <tr>\n",
       "      <th>4</th>\n",
       "      <td>Question: What are the symptoms of Small Cell ...</td>\n",
       "      <td>Signs and symptoms of small cell lung cancer i...</td>\n",
       "      <td>human</td>\n",
       "    </tr>\n",
       "  </tbody>\n",
       "</table>\n",
       "</div>"
      ],
      "text/plain": [
       "                                            Question  \\\n",
       "0  Question: What are the treatments for Myelodys...   \n",
       "1  Question: What are the treatments for Myelodys...   \n",
       "2  Question: What are the symptoms of Adult Non-H...   \n",
       "3  Question: What are the symptoms of Adult Non-H...   \n",
       "4  Question: What are the symptoms of Small Cell ...   \n",
       "\n",
       "                                              Answer    Label  \n",
       "0  Because myelodysplastic /myeloproliferative ne...    human  \n",
       "1  Treatments for. Myelodysplastic/ Myeloprolifer...  machine  \n",
       "2  Signs and symptoms of adult nonHodgkin lymphom...    human  \n",
       "3   Swollen lymph nodes. Fever. Night sweats. Wei...  machine  \n",
       "4  Signs and symptoms of small cell lung cancer i...    human  "
      ]
     },
     "execution_count": 3,
     "metadata": {},
     "output_type": "execute_result"
    }
   ],
   "source": [
    "import pandas as pd\n",
    "\n",
    "data_path = 'test_data.txt'\n",
    "\n",
    "with open(data_path, 'r', encoding='utf-8') as file:\n",
    "    raw_data = file.read()\n",
    "\n",
    "entries = raw_data.split('\\n\\n')\n",
    "\n",
    "df = pd.DataFrame(entries, columns=['Entry'])\n",
    "\n",
    "df[['Question', 'Answer']] = df['Entry'].str.split('\\nAnswer: ', expand=True)\n",
    "df['Label'] = ['human' if i % 2 == 0 else 'machine' for i in range(len(df))]\n",
    "\n",
    "df.drop(columns=['Entry'], inplace=True)\n",
    "\n",
    "df.head()"
   ]
  },
  {
   "cell_type": "code",
   "execution_count": 4,
   "id": "7d0e84b574ad2066",
   "metadata": {
    "ExecuteTime": {
     "end_time": "2024-04-29T23:56:58.063290767Z",
     "start_time": "2024-04-29T23:56:58.018852881Z"
    },
    "collapsed": false
   },
   "outputs": [
    {
     "data": {
      "text/html": [
       "<div>\n",
       "<style scoped>\n",
       "    .dataframe tbody tr th:only-of-type {\n",
       "        vertical-align: middle;\n",
       "    }\n",
       "\n",
       "    .dataframe tbody tr th {\n",
       "        vertical-align: top;\n",
       "    }\n",
       "\n",
       "    .dataframe thead th {\n",
       "        text-align: right;\n",
       "    }\n",
       "</style>\n",
       "<table border=\"1\" class=\"dataframe\">\n",
       "  <thead>\n",
       "    <tr style=\"text-align: right;\">\n",
       "      <th></th>\n",
       "      <th>Question</th>\n",
       "      <th>Answer</th>\n",
       "      <th>Label</th>\n",
       "      <th>Prompt</th>\n",
       "    </tr>\n",
       "  </thead>\n",
       "  <tbody>\n",
       "    <tr>\n",
       "      <th>0</th>\n",
       "      <td>Question: What are the treatments for Myelodys...</td>\n",
       "      <td>Because myelodysplastic /myeloproliferative ne...</td>\n",
       "      <td>human</td>\n",
       "      <td>Read the following text: \"Because myelodysplas...</td>\n",
       "    </tr>\n",
       "    <tr>\n",
       "      <th>1</th>\n",
       "      <td>Question: What are the treatments for Myelodys...</td>\n",
       "      <td>Treatments for. Myelodysplastic/ Myeloprolifer...</td>\n",
       "      <td>machine</td>\n",
       "      <td>Read the following text: \"Treatments for. Myel...</td>\n",
       "    </tr>\n",
       "    <tr>\n",
       "      <th>2</th>\n",
       "      <td>Question: What are the symptoms of Adult Non-H...</td>\n",
       "      <td>Signs and symptoms of adult nonHodgkin lymphom...</td>\n",
       "      <td>human</td>\n",
       "      <td>Read the following text: \"Signs and symptoms o...</td>\n",
       "    </tr>\n",
       "    <tr>\n",
       "      <th>3</th>\n",
       "      <td>Question: What are the symptoms of Adult Non-H...</td>\n",
       "      <td>Swollen lymph nodes. Fever. Night sweats. Wei...</td>\n",
       "      <td>machine</td>\n",
       "      <td>Read the following text: \" Swollen lymph nodes...</td>\n",
       "    </tr>\n",
       "    <tr>\n",
       "      <th>4</th>\n",
       "      <td>Question: What are the symptoms of Small Cell ...</td>\n",
       "      <td>Signs and symptoms of small cell lung cancer i...</td>\n",
       "      <td>human</td>\n",
       "      <td>Read the following text: \"Signs and symptoms o...</td>\n",
       "    </tr>\n",
       "  </tbody>\n",
       "</table>\n",
       "</div>"
      ],
      "text/plain": [
       "                                            Question  \\\n",
       "0  Question: What are the treatments for Myelodys...   \n",
       "1  Question: What are the treatments for Myelodys...   \n",
       "2  Question: What are the symptoms of Adult Non-H...   \n",
       "3  Question: What are the symptoms of Adult Non-H...   \n",
       "4  Question: What are the symptoms of Small Cell ...   \n",
       "\n",
       "                                              Answer    Label  \\\n",
       "0  Because myelodysplastic /myeloproliferative ne...    human   \n",
       "1  Treatments for. Myelodysplastic/ Myeloprolifer...  machine   \n",
       "2  Signs and symptoms of adult nonHodgkin lymphom...    human   \n",
       "3   Swollen lymph nodes. Fever. Night sweats. Wei...  machine   \n",
       "4  Signs and symptoms of small cell lung cancer i...    human   \n",
       "\n",
       "                                              Prompt  \n",
       "0  Read the following text: \"Because myelodysplas...  \n",
       "1  Read the following text: \"Treatments for. Myel...  \n",
       "2  Read the following text: \"Signs and symptoms o...  \n",
       "3  Read the following text: \" Swollen lymph nodes...  \n",
       "4  Read the following text: \"Signs and symptoms o...  "
      ]
     },
     "execution_count": 4,
     "metadata": {},
     "output_type": "execute_result"
    }
   ],
   "source": [
    "df['Prompt'] = df['Answer'].apply(lambda x: f'Read the following text: \"{x}\" and tell me whether it is generated by human or machine. You only need to reply one word, human or machine.')\n",
    "\n",
    "df.head()"
   ]
  },
  {
   "cell_type": "code",
   "execution_count": 6,
   "id": "e2d9fc318ee8eb95",
   "metadata": {
    "ExecuteTime": {
     "end_time": "2024-04-30T00:02:06.014326366Z",
     "start_time": "2024-04-30T00:00:41.339469355Z"
    },
    "collapsed": false
   },
   "outputs": [
    {
     "name": "stderr",
     "output_type": "stream",
     "text": [
      "100%|██████████| 147/147 [01:24<00:00,  1.74it/s]\n"
     ]
    },
    {
     "data": {
      "text/html": [
       "<div>\n",
       "<style scoped>\n",
       "    .dataframe tbody tr th:only-of-type {\n",
       "        vertical-align: middle;\n",
       "    }\n",
       "\n",
       "    .dataframe tbody tr th {\n",
       "        vertical-align: top;\n",
       "    }\n",
       "\n",
       "    .dataframe thead th {\n",
       "        text-align: right;\n",
       "    }\n",
       "</style>\n",
       "<table border=\"1\" class=\"dataframe\">\n",
       "  <thead>\n",
       "    <tr style=\"text-align: right;\">\n",
       "      <th></th>\n",
       "      <th>Question</th>\n",
       "      <th>Answer</th>\n",
       "      <th>Label</th>\n",
       "      <th>Prompt</th>\n",
       "      <th>Response</th>\n",
       "    </tr>\n",
       "  </thead>\n",
       "  <tbody>\n",
       "    <tr>\n",
       "      <th>0</th>\n",
       "      <td>Question: What are the treatments for Myelodys...</td>\n",
       "      <td>Because myelodysplastic /myeloproliferative ne...</td>\n",
       "      <td>human</td>\n",
       "      <td>Read the following text: \"Because myelodysplas...</td>\n",
       "      <td>Machine</td>\n",
       "    </tr>\n",
       "    <tr>\n",
       "      <th>1</th>\n",
       "      <td>Question: What are the treatments for Myelodys...</td>\n",
       "      <td>Treatments for. Myelodysplastic/ Myeloprolifer...</td>\n",
       "      <td>machine</td>\n",
       "      <td>Read the following text: \"Treatments for. Myel...</td>\n",
       "      <td>Machine</td>\n",
       "    </tr>\n",
       "    <tr>\n",
       "      <th>2</th>\n",
       "      <td>Question: What are the symptoms of Adult Non-H...</td>\n",
       "      <td>Signs and symptoms of adult nonHodgkin lymphom...</td>\n",
       "      <td>human</td>\n",
       "      <td>Read the following text: \"Signs and symptoms o...</td>\n",
       "      <td>Machine</td>\n",
       "    </tr>\n",
       "    <tr>\n",
       "      <th>3</th>\n",
       "      <td>Question: What are the symptoms of Adult Non-H...</td>\n",
       "      <td>Swollen lymph nodes. Fever. Night sweats. Wei...</td>\n",
       "      <td>machine</td>\n",
       "      <td>Read the following text: \" Swollen lymph nodes...</td>\n",
       "      <td>Machine</td>\n",
       "    </tr>\n",
       "    <tr>\n",
       "      <th>4</th>\n",
       "      <td>Question: What are the symptoms of Small Cell ...</td>\n",
       "      <td>Signs and symptoms of small cell lung cancer i...</td>\n",
       "      <td>human</td>\n",
       "      <td>Read the following text: \"Signs and symptoms o...</td>\n",
       "      <td>Human</td>\n",
       "    </tr>\n",
       "  </tbody>\n",
       "</table>\n",
       "</div>"
      ],
      "text/plain": [
       "                                            Question  \\\n",
       "0  Question: What are the treatments for Myelodys...   \n",
       "1  Question: What are the treatments for Myelodys...   \n",
       "2  Question: What are the symptoms of Adult Non-H...   \n",
       "3  Question: What are the symptoms of Adult Non-H...   \n",
       "4  Question: What are the symptoms of Small Cell ...   \n",
       "\n",
       "                                              Answer    Label  \\\n",
       "0  Because myelodysplastic /myeloproliferative ne...    human   \n",
       "1  Treatments for. Myelodysplastic/ Myeloprolifer...  machine   \n",
       "2  Signs and symptoms of adult nonHodgkin lymphom...    human   \n",
       "3   Swollen lymph nodes. Fever. Night sweats. Wei...  machine   \n",
       "4  Signs and symptoms of small cell lung cancer i...    human   \n",
       "\n",
       "                                              Prompt Response  \n",
       "0  Read the following text: \"Because myelodysplas...  Machine  \n",
       "1  Read the following text: \"Treatments for. Myel...  Machine  \n",
       "2  Read the following text: \"Signs and symptoms o...  Machine  \n",
       "3  Read the following text: \" Swollen lymph nodes...  Machine  \n",
       "4  Read the following text: \"Signs and symptoms o...    Human  "
      ]
     },
     "execution_count": 6,
     "metadata": {},
     "output_type": "execute_result"
    }
   ],
   "source": [
    "from openai import OpenAI\n",
    "from tqdm import tqdm\n",
    "\n",
    "client = OpenAI(api_key=\"your_api\")\n",
    "\n",
    "def gpt_response(prompt):\n",
    "    response = client.chat.completions.create(\n",
    "        model=\"gpt-3.5-turbo\",\n",
    "        messages=[{\"role\": \"user\", \"content\": prompt}],\n",
    "        temperature=1,\n",
    "        max_tokens=256,\n",
    "        top_p=1,\n",
    "        frequency_penalty=0,\n",
    "        presence_penalty=0\n",
    "    )\n",
    "    return response.choices[0].message.content\n",
    "\n",
    "responses = []\n",
    "for prompt in tqdm(df['Prompt']):\n",
    "    response = gpt_response(prompt)\n",
    "    responses.append(response)\n",
    "\n",
    "df['Response'] = responses\n",
    "df.head()"
   ]
  },
  {
   "cell_type": "code",
   "execution_count": 7,
   "id": "e25ee3714f4f6481",
   "metadata": {
    "ExecuteTime": {
     "end_time": "2024-04-30T00:04:19.940078466Z",
     "start_time": "2024-04-30T00:04:19.925243487Z"
    },
    "collapsed": false
   },
   "outputs": [],
   "source": [
    "df.to_csv('updated_dataframe.csv', index=False)"
   ]
  },
  {
   "cell_type": "code",
   "execution_count": 9,
   "id": "aeac6ce8d1ce8e9a",
   "metadata": {
    "ExecuteTime": {
     "end_time": "2024-04-30T00:05:50.124773754Z",
     "start_time": "2024-04-30T00:05:50.042399864Z"
    },
    "collapsed": false
   },
   "outputs": [
    {
     "name": "stdout",
     "output_type": "stream",
     "text": [
      "Accuracy: 58.50%\n"
     ]
    }
   ],
   "source": [
    "import pandas as pd\n",
    "\n",
    "df = pd.read_csv(\"updated_dataframe.csv\")\n",
    "def is_correct(row):\n",
    "    return row['Response'].strip().lower() == row['Label'].strip().lower()\n",
    "\n",
    "df['Correct'] = df.apply(is_correct, axis=1)\n",
    "\n",
    "accuracy = df['Correct'].mean()\n",
    "print(f\"Accuracy: {accuracy:.2%}\")"
   ]
  }
 ],
 "metadata": {
  "kernelspec": {
   "display_name": "Python 3",
   "language": "python",
   "name": "python3"
  },
  "language_info": {
   "codemirror_mode": {
    "name": "ipython",
    "version": 2
   },
   "file_extension": ".py",
   "mimetype": "text/x-python",
   "name": "python",
   "nbconvert_exporter": "python",
   "pygments_lexer": "ipython2",
   "version": "2.7.6"
  }
 },
 "nbformat": 4,
 "nbformat_minor": 5
}
